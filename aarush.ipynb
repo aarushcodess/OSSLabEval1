{
 "cells": [
  {
   "cell_type": "code",
   "execution_count": 1,
   "metadata": {},
   "outputs": [],
   "source": [
    "import numpy as np"
   ]
  },
  {
   "cell_type": "code",
   "execution_count": 5,
   "metadata": {},
   "outputs": [
    {
     "name": "stdout",
     "output_type": "stream",
     "text": [
      "Student data management system\n",
      "Student Id: 3\n",
      "Name of student: Anika\n",
      "Class: 6\n",
      "Height: 162\n",
      "Weight: 63\n",
      "Sports liked: Basketball\n",
      "Enter calorie intake: 2000\n",
      "{'3': {'name': 'Anika', 'class_': 6, 'height': 162, 'weight': 63, 'sport': 'Basketball', 'calories': 2000}}\n"
     ]
    }
   ],
   "source": [
    "print(\"Student data management system\")\n",
    "students={}\n",
    "\n",
    "def add_student(students):\n",
    "    i_d = input(\"Student Id: \")\n",
    "    s_name=input(\"Name of student: \")\n",
    "    s_class=int(input(\"Class: \"))\n",
    "    s_height=int(input(\"Height: \"))\n",
    "    s_weight=int(input(\"Weight: \"))\n",
    "    s_sport=input(\"Sports liked: \")\n",
    "    s_calorie=int(input(\"Enter calorie intake: \"))\n",
    "    students[i_d] = {\n",
    "        'name':s_name,\n",
    "        'class_':s_class,\n",
    "        'height': s_height,\n",
    "        'weight': s_weight,\n",
    "        'sport': s_sport,\n",
    "        'calories': s_calorie\n",
    "    }\n",
    "\n",
    "add_student(students)\n",
    "print(students)\n"
   ]
  },
  {
   "cell_type": "code",
   "execution_count": 6,
   "metadata": {},
   "outputs": [
    {
     "name": "stdout",
     "output_type": "stream",
     "text": [
      "Enter ID to get feedback: 3\n",
      "\n",
      "Green\n"
     ]
    }
   ],
   "source": [
    "def feedback(student):\n",
    "    needed_cal = student['weight']*10 + student['height']*7\n",
    "    \n",
    "    if student['calories'] >= needed_cal:\n",
    "        print(\"\\nGreen\")\n",
    "    else:\n",
    "        diff = (needed_cal - student['calories'])/needed_cal\n",
    "        if diff < 0.2:\n",
    "            print(\"\\nOrange\")\n",
    "        else:\n",
    "            print(\"\\nRed\")\n",
    "            \n",
    "i_d = input(\"Enter ID to get feedback: \")\n",
    "feedback(students[i_d])"
   ]
  },
  {
   "cell_type": "code",
   "execution_count": null,
   "metadata": {},
   "outputs": [],
   "source": []
  }
 ],
 "metadata": {
  "kernelspec": {
   "display_name": "Python 3",
   "language": "python",
   "name": "python3"
  },
  "language_info": {
   "codemirror_mode": {
    "name": "ipython",
    "version": 3
   },
   "file_extension": ".py",
   "mimetype": "text/x-python",
   "name": "python",
   "nbconvert_exporter": "python",
   "pygments_lexer": "ipython3",
   "version": "3.7.3"
  }
 },
 "nbformat": 4,
 "nbformat_minor": 2
}
